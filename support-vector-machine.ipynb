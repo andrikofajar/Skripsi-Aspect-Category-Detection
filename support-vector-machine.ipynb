{
 "cells": [
  {
   "cell_type": "code",
   "execution_count": null,
   "metadata": {},
   "outputs": [],
   "source": [
    "def hitung_cost_gradient(W,X,Y,regularization):\n",
    "      jarak = 1 - (Y*np.dot(X,W))\n",
    "  dw = np.zeros(len(W))\n",
    "  if max(0,jarak)==0:\n",
    "    di = W\n",
    "  else:\n",
    "    di = W - (regularization * Y*X)\n",
    "  dw += di\n",
    "  return dw"
   ]
  },
  {
   "cell_type": "code",
   "execution_count": null,
   "metadata": {},
   "outputs": [],
   "source": [
    "from sklearn.utils import shuffle\n",
    "def sgd(data_latih, label_latih, learning_rate = 0.000001, max_epoch = 1000, regularization = 10000):\n",
    "  data_latih = data_latih.to_numpy()\n",
    "  label_latih = label_latih.to_numpy()\n",
    "  bobot = np.zeros(data_latih.shape[1])\n",
    "  for epoch in range(1,max_epoch):\n",
    "    X, Y = shuffle(data_latih, label_latih, random_state=101)\n",
    "    for index, x in enumerate(X):\n",
    "      delta = hitung_cost_gradient(bobot, x, Y[index], regularization)\n",
    "      bobot = bobot - (learning_rate*delta)\n",
    "  return bobot"
   ]
  },
  {
   "cell_type": "code",
   "execution_count": null,
   "metadata": {},
   "outputs": [],
   "source": [
    "W = sgd(data_latih, label_latih)\n",
    "print(W)"
   ]
  },
  {
   "attachments": {},
   "cell_type": "markdown",
   "metadata": {},
   "source": [
    "Testing"
   ]
  },
  {
   "cell_type": "code",
   "execution_count": null,
   "metadata": {},
   "outputs": [],
   "source": [
    "def testing(W,data_uji):\n",
    "      prediksi = np.array([])\n",
    "  for i in range(data_uji.shape[0]):\n",
    "    y_prediksi = np.sign(np.dot(W,data_uji.to_numpy()[i]))\n",
    "    prediksi = np.append(prediksi, y_prediksi)\n",
    "  return prediksi"
   ]
  },
  {
   "cell_type": "code",
   "execution_count": null,
   "metadata": {},
   "outputs": [],
   "source": [
    "y_prediksi = testing(W,data_uji)\n",
    "print(sum(y_prediksi==label_uji))"
   ]
  }
 ],
 "metadata": {
  "language_info": {
   "name": "python"
  },
  "orig_nbformat": 4
 },
 "nbformat": 4,
 "nbformat_minor": 2
}
